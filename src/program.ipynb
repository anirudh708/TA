{
 "metadata": {
  "name": "",
  "signature": "sha256:286c60ddaa0c3714bdb671e13a9f226c7f684092cee4626b7a2134e43f325055"
 },
 "nbformat": 3,
 "nbformat_minor": 0,
 "worksheets": [
  {
   "cells": [
    {
     "cell_type": "code",
     "collapsed": false,
     "input": [
      "'''\n",
      "Created on Jan 19, 2015\n",
      "\n",
      "'''\n",
      "import re\n",
      "import nltk\n",
      "\n",
      "import pandas as pd\n",
      "import numpy as np\n",
      "\n",
      "from bs4 import BeautifulSoup\n",
      "from nltk.corpus import stopwords\n",
      "\n",
      "\n",
      "class KaggleWord2VecUtility(object):\n",
      "    \"\"\"KaggleWord2VecUtility is a utility class for processing raw HTML text into segments for further learning\"\"\"\n",
      "\n",
      "    @staticmethod\n",
      "    def review_to_wordlist( review, remove_stopwords=False ):\n",
      "        # Function to convert a document to a sequence of words,\n",
      "        # optionally removing stop words.  Returns a list of words.\n",
      "        #\n",
      "        # 1. Remove HTML\n",
      "        review_text = BeautifulSoup(review).get_text()\n",
      "        #\n",
      "        # 2. Remove non-letters\n",
      "        review_text = re.sub(\"[^a-zA-Z]\",\" \", review_text)\n",
      "        #\n",
      "        # 3. Convert words to lower case and split them\n",
      "        words = review_text.lower().split()\n",
      "        #\n",
      "        # 4. Optionally remove stop words (false by default)\n",
      "        if remove_stopwords:\n",
      "            stops = set(stopwords.words(\"english\"))\n",
      "            words = [w for w in words if not w in stops]\n",
      "        #\n",
      "        # 5. Return a list of words\n",
      "        return(words)\n",
      "\n",
      "    # Define a function to split a review into parsed sentences\n",
      "    @staticmethod\n",
      "    def review_to_sentences( review, tokenizer, remove_stopwords=False ):\n",
      "        # Function to split a review into parsed sentences. Returns a\n",
      "        # list of sentences, where each sentence is a list of words\n",
      "        #\n",
      "        # 1. Use the NLTK tokenizer to split the paragraph into sentences\n",
      "        raw_sentences = tokenizer.tokenize(review.decode('utf8').strip())\n",
      "        #\n",
      "        # 2. Loop over each sentence\n",
      "        sentences = []\n",
      "        for raw_sentence in raw_sentences:\n",
      "            # If a sentence is empty, skip it\n",
      "            if len(raw_sentence) > 0:\n",
      "                # Otherwise, call review_to_wordlist to get a list of words\n",
      "                sentences.append( KaggleWord2VecUtility.review_to_wordlist( raw_sentence, \\\n",
      "                  remove_stopwords ))\n",
      "        #\n",
      "        # Return the list of sentences (each sentence is a list of words,\n",
      "        # so this returns a list of lists\n",
      "        return sentences"
     ],
     "language": "python",
     "metadata": {},
     "outputs": [],
     "prompt_number": 45
    },
    {
     "cell_type": "code",
     "collapsed": false,
     "input": [
      "import pandas as pd\n",
      "import os\n",
      "from nltk.corpus import stopwords\n",
      "import nltk.data\n",
      "import logging\n",
      "import numpy as np  # Make sure that numpy is imported\n",
      "from gensim.models import Word2Vec,Doc2Vec\n",
      "#from sklearn.ensemble import RandomForestClassifier\n",
      "\n",
      "KaggleWord2VecUtility\n",
      "from sklearn import metrics\n",
      "import gensim\n",
      "from sklearn.cross_validation import train_test_split\n",
      "from sklearn.linear_model import LogisticRegression as LR\n",
      "from sklearn.feature_extraction.text import TfidfVectorizer\n",
      "import pickle\n",
      "import numpy\n",
      "import math\n",
      "import sys\n",
      "from numpy import random,uint32\n",
      "import traceback"
     ],
     "language": "python",
     "metadata": {},
     "outputs": [],
     "prompt_number": 19
    },
    {
     "cell_type": "code",
     "collapsed": false,
     "input": [
      "def makeFeatureVec(words, model, num_features):\n",
      "    # Function to average all of the word vectors in a given\n",
      "    # paragraph\n",
      "    #\n",
      "    # Pre-initialize an empty numpy array (for speed)\n",
      "    featureVec = np.zeros((num_features,),dtype=\"float32\")\n",
      "    #\n",
      "    nwords = 0.\n",
      "    #\n",
      "    # Index2word is a list that contains the names of the words in\n",
      "    # the model's vocabulary. Convert it to a set, for speed\n",
      "    index2word_set = set(model.index2word)\n",
      "    #\n",
      "    # Loop over each word in the review and, if it is in the model's\n",
      "    # vocaublary, add its feature vector to the total\n",
      "    for word in words:\n",
      "        if word in index2word_set:\n",
      "            nwords = nwords + 1.\n",
      "            featureVec = np.add(featureVec,model[word])\n",
      "    #\n",
      "    # Divide the result by the number of words to get the average\n",
      "    featureVec = np.divide(featureVec,nwords)\n",
      "    return featureVec\n"
     ],
     "language": "python",
     "metadata": {},
     "outputs": [],
     "prompt_number": 20
    },
    {
     "cell_type": "code",
     "collapsed": false,
     "input": [
      "def getAvgFeatureVecs(reviews, model, num_features):\n",
      "    # Given a set of reviews (each one a list of words), calculate\n",
      "    # the average feature vector for each one and return a 2D numpy array\n",
      "    #\n",
      "    # Initialize a counter\n",
      "    counter = 0.\n",
      "    #\n",
      "    # Preallocate a 2D numpy array, for speed\n",
      "    reviewFeatureVecs = np.zeros((len(reviews),num_features),dtype=\"float32\")\n",
      "    #\n",
      "    # Loop through the reviews\n",
      "    for review in reviews:\n",
      "       #\n",
      "       # Print a status message every 1000th review\n",
      "       if counter%1000. == 0.:\n",
      "           print \"Review %d of %d\" % (counter, len(reviews))\n",
      "       #\n",
      "       # Call the function (defined above) that makes average feature vectors\n",
      "       reviewFeatureVecs[counter] = makeFeatureVec(review, model, \\\n",
      "           num_features)\n",
      "       #\n",
      "       # Increment the counter\n",
      "       counter = counter + 1.\n",
      "    return reviewFeatureVecs\n",
      "\n"
     ],
     "language": "python",
     "metadata": {},
     "outputs": [],
     "prompt_number": 21
    },
    {
     "cell_type": "code",
     "collapsed": false,
     "input": [
      "\n",
      "def getCleanReviews(reviews):\n",
      "    clean_reviews = []\n",
      "    for review in reviews[\"review\"]:\n",
      "        clean_reviews.append( KaggleWord2VecUtility.review_to_wordlist( review, remove_stopwords=True ))\n",
      "    return clean_reviews\n"
     ],
     "language": "python",
     "metadata": {},
     "outputs": [],
     "prompt_number": 22
    },
    {
     "cell_type": "code",
     "collapsed": false,
     "input": [
      "\n",
      "def MyLabeledLineSentence(train_sen_len, model,  reviews):\n",
      "    sens = []\n",
      "    inner_id = 0\n",
      "    k = 0\n",
      "    print len(reviews)\n",
      "    \n",
      "    try:\n",
      "        for line in reviews:\n",
      "            print k\n",
      "            k+=1\n",
      "            item_no =  train_sen_len + inner_id\n",
      "            label = 'SENT_'+str(item_no)\n",
      "            newvocab = gensim.models.doc2vec.Vocab()\n",
      "            newvocab.index = item_no\n",
      "            newvocab.sample_probability = 1.0\n",
      "            newvocab.code = []\n",
      "            for i in range(0, int(math.log(item_no, 2)+1)):\n",
      "                newvocab.code.append(1)\n",
      "            model.vocab[label] = newvocab\n",
      "            model.syn0 = numpy.vstack((model.syn0, model.syn0[0]))\n",
      "            model.index2word.append(label)\n",
      "            random.seed(uint32(model.hashfxn(model.index2word[item_no] + str(model.seed))))\n",
      "            model.syn0[item_no] = (random.rand(model.layer1_size) - 0.5) / model.layer1_size\n",
      "            sens.append(gensim.models.doc2vec.LabeledSentence(line, ['SENT_%s' % item_no]))\n",
      "            inner_id += 1\n",
      "    except:\n",
      "        sys.exit(-1)\n",
      "    return sens;\n"
     ],
     "language": "python",
     "metadata": {},
     "outputs": [],
     "prompt_number": 49
    },
    {
     "cell_type": "code",
     "collapsed": false,
     "input": [
      "\n",
      "train = pd.read_csv( os.path.join(os.path.dirname('__file__'), 'data', '/home/ani/Downloads/labeledTrainData.tsv'), header=0, delimiter=\"\\t\", quoting=3 )\n",
      "test = pd.read_csv(os.path.join(os.path.dirname('__file__'), 'data', '/home/ani/Downloads/testData.tsv'), header=0, delimiter=\"\\t\", quoting=3 )\n",
      "unlabeled_train = pd.read_csv( os.path.join(os.path.dirname('__file__'), 'data', \"/home/ani/Downloads/unlabeledTrainData.tsv\"), header=0,  delimiter=\"\\t\", quoting=3 )\n"
     ],
     "language": "python",
     "metadata": {},
     "outputs": [],
     "prompt_number": 24
    },
    {
     "cell_type": "code",
     "collapsed": false,
     "input": [
      "# Verify the number of reviews that were read (100,000 in total)\n",
      "print \"Read %d labeled train reviews, %d labeled test reviews, \" \\\n",
      " \"and %d unlabeled reviews\\n\" % (train[\"review\"].size,\n",
      " test[\"review\"].size, unlabeled_train[\"review\"].size )\n",
      "\n",
      "\n",
      "\n",
      "# Load the punkt tokenizer\n",
      "tokenizer = nltk.data.load('tokenizers/punkt/english.pickle')"
     ],
     "language": "python",
     "metadata": {},
     "outputs": [
      {
       "output_type": "stream",
       "stream": "stdout",
       "text": [
        "Read 25000 labeled train reviews, 25000 labeled test reviews, and 50000 unlabeled reviews\n",
        "\n"
       ]
      }
     ],
     "prompt_number": 25
    },
    {
     "cell_type": "code",
     "collapsed": false,
     "input": [
      "\n",
      "sentences = []  # Initialize an empty list of sentences\n",
      "\n",
      "#     print \"Parsing sentences from training set\"\n",
      "j=0\n",
      "i=0\n",
      "for review in train[\"review\"]:\n",
      "    sentences += [gensim.models.doc2vec.LabeledSentence(KaggleWord2VecUtility.review_to_sentences(review, tokenizer)[0],labels = ['sent_%s' %i])]\n",
      "    i+=1\n",
      " \n",
      "# \n",
      "#     print \"Parsing sentences from unlabeled set\"\n",
      "for review in unlabeled_train[\"review\"]:\n",
      "    sentences += [gensim.models.doc2vec.LabeledSentence(KaggleWord2VecUtility.review_to_sentences(review, tokenizer)[0],labels = ['sent_%s' %i])]\n",
      "    i+=1\n",
      "j=i\n",
      "\n"
     ],
     "language": "python",
     "metadata": {},
     "outputs": [
      {
       "output_type": "stream",
       "stream": "stderr",
       "text": [
        "/usr/lib/python2.7/dist-packages/bs4/__init__.py:182: UserWarning: \".\" looks like a filename, not markup. You should probably open this file and pass the filehandle into Beautiful Soup.\n",
        "  '\"%s\" looks like a filename, not markup. You should probably open this file and pass the filehandle into Beautiful Soup.' % markup)\n",
        "/usr/lib/python2.7/dist-packages/bs4/__init__.py:189: UserWarning: \"http://www.happierabroad.com\"\" looks like a URL. Beautiful Soup is not an HTTP client. You should probably use an HTTP client to get the document behind the URL, and feed that document to Beautiful Soup.\n",
        "  '\"%s\" looks like a URL. Beautiful Soup is not an HTTP client. You should probably use an HTTP client to get the document behind the URL, and feed that document to Beautiful Soup.' % markup)\n"
       ]
      },
      {
       "output_type": "stream",
       "stream": "stderr",
       "text": [
        "/usr/lib/python2.7/dist-packages/bs4/__init__.py:189: UserWarning: \"http://www.archive.org/details/LovefromaStranger\"\" looks like a URL. Beautiful Soup is not an HTTP client. You should probably use an HTTP client to get the document behind the URL, and feed that document to Beautiful Soup.\n",
        "  '\"%s\" looks like a URL. Beautiful Soup is not an HTTP client. You should probably use an HTTP client to get the document behind the URL, and feed that document to Beautiful Soup.' % markup)\n",
        "/usr/lib/python2.7/dist-packages/bs4/__init__.py:189: UserWarning: \"http://www.loosechangeguide.com/LooseChangeGuide.html\"\" looks like a URL. Beautiful Soup is not an HTTP client. You should probably use an HTTP client to get the document behind the URL, and feed that document to Beautiful Soup.\n",
        "  '\"%s\" looks like a URL. Beautiful Soup is not an HTTP client. You should probably use an HTTP client to get the document behind the URL, and feed that document to Beautiful Soup.' % markup)\n"
       ]
      },
      {
       "output_type": "stream",
       "stream": "stderr",
       "text": [
        "/usr/lib/python2.7/dist-packages/bs4/__init__.py:189: UserWarning: \"http://www.msnbc.msn.com/id/4972055/site/newsweek/\"\" looks like a URL. Beautiful Soup is not an HTTP client. You should probably use an HTTP client to get the document behind the URL, and feed that document to Beautiful Soup.\n",
        "  '\"%s\" looks like a URL. Beautiful Soup is not an HTTP client. You should probably use an HTTP client to get the document behind the URL, and feed that document to Beautiful Soup.' % markup)\n",
        "/usr/lib/python2.7/dist-packages/bs4/__init__.py:182: UserWarning: \"..\" looks like a filename, not markup. You should probably open this file and pass the filehandle into Beautiful Soup.\n",
        "  '\"%s\" looks like a filename, not markup. You should probably open this file and pass the filehandle into Beautiful Soup.' % markup)\n"
       ]
      },
      {
       "output_type": "stream",
       "stream": "stderr",
       "text": [
        "/usr/lib/python2.7/dist-packages/bs4/__init__.py:189: UserWarning: \"http://www.youtube.com/watch?v=a0KSqelmgN8\"\" looks like a URL. Beautiful Soup is not an HTTP client. You should probably use an HTTP client to get the document behind the URL, and feed that document to Beautiful Soup.\n",
        "  '\"%s\" looks like a URL. Beautiful Soup is not an HTTP client. You should probably use an HTTP client to get the document behind the URL, and feed that document to Beautiful Soup.' % markup)\n",
        "/usr/lib/python2.7/dist-packages/bs4/__init__.py:189: UserWarning: \"http://jake-weird.blogspot.com/2007/08/beneath.html\"\" looks like a URL. Beautiful Soup is not an HTTP client. You should probably use an HTTP client to get the document behind the URL, and feed that document to Beautiful Soup.\n",
        "  '\"%s\" looks like a URL. Beautiful Soup is not an HTTP client. You should probably use an HTTP client to get the document behind the URL, and feed that document to Beautiful Soup.' % markup)\n"
       ]
      }
     ],
     "prompt_number": 26
    },
    {
     "cell_type": "code",
     "collapsed": false,
     "input": [
      "print sentences[354].words\n"
     ],
     "language": "python",
     "metadata": {},
     "outputs": [
      {
       "output_type": "stream",
       "stream": "stdout",
       "text": [
        "[]\n"
       ]
      }
     ],
     "prompt_number": 46
    },
    {
     "cell_type": "code",
     "collapsed": false,
     "input": [
      "\n",
      "logging.basicConfig(format='%(asctime)s : %(levelname)s : %(message)s',\\\n",
      "        level=logging.INFO)\n",
      " \n",
      "# Set values for various parameters\n",
      "num_features = 600    # Word vector dimensionality\n",
      "min_word_count = 1   # Minimum word count\n",
      "num_workers = 4       # Number of threads to run in parallel\n",
      "context = 30          # Context window size\n",
      "downsampling = 1e-8   # Downsample setting for frequent words\n",
      "\n",
      "#Initialize and train the model (this will take some time)\n",
      "print \"Training Word2Vec model...\"\n",
      "#     \n",
      "model = Doc2Vec(workers=num_workers, \\\n",
      "            size=num_features, min_count = min_word_count, \\\n",
      "            window = context, sample = downsampling, seed=1)  # use fixed learning rate\n",
      "\n",
      "model.build_vocab(sentences)\n",
      "\n",
      "model.train(sentences)\n",
      "# If you don't plan to train the model any further, calling\n",
      "# init_sims will make the model much more memory-efficient.\n",
      "model.init_sims(replace=True)\n",
      "# It can be helpful to create a meaningful model name and\n",
      "# save the model for later use. You can load it later using Word2Vec.load()\n",
      "print \"training finished\"\n",
      "\n"
     ],
     "language": "python",
     "metadata": {},
     "outputs": [
      {
       "output_type": "stream",
       "stream": "stdout",
       "text": [
        "Training Word2Vec model...\n",
        "training finished"
       ]
      },
      {
       "output_type": "stream",
       "stream": "stdout",
       "text": [
        "\n"
       ]
      }
     ],
     "prompt_number": 47
    },
    {
     "cell_type": "code",
     "collapsed": false,
     "input": [
      "\n",
      "print len( test['review'])\n",
      "sent = []\n",
      "for review in test[\"review\"]:\n",
      "    sent += [KaggleWord2VecUtility.review_to_sentences(review, tokenizer)[0]]\n",
      "    i+=1\n",
      "len(sent)"
     ],
     "language": "python",
     "metadata": {},
     "outputs": [
      {
       "output_type": "stream",
       "stream": "stdout",
       "text": [
        "25000\n"
       ]
      },
      {
       "metadata": {},
       "output_type": "pyout",
       "prompt_number": 48,
       "text": [
        "25000"
       ]
      }
     ],
     "prompt_number": 48
    },
    {
     "cell_type": "code",
     "collapsed": false,
     "input": [
      "\n",
      "reviewFeatureVecs = np.zeros((len(sentences),num_features),dtype=\"float32\")\n",
      "print len(reviewFeatureVecs)\n",
      "\n",
      "counter = 0 \n",
      "\n",
      "for each in xrange(0,j):\n",
      "    if len(sentences[each].words)==0:\n",
      "         reviewFeatureVecs[counter] = numpy.zeros(num_features)\n",
      "    else:  \n",
      "        reviewFeatureVecs[counter] = model['sent_'+str(each)]\n",
      "    counter+=1\n",
      "trainDataVecs = reviewFeatureVecs\n"
     ],
     "language": "python",
     "metadata": {},
     "outputs": [
      {
       "output_type": "stream",
       "stream": "stdout",
       "text": [
        "75000\n"
       ]
      }
     ],
     "prompt_number": 50
    },
    {
     "cell_type": "code",
     "collapsed": false,
     "input": [
      "train_sen_len=len(model.vocab)\n",
      "sentences_test=MyLabeledLineSentence(train_sen_len, model,sent)\n",
      "print len(sentences_test)\n",
      "model.train_labels=True\n",
      "model.train_words=False\n",
      "\n",
      "model.train(sentences_test)"
     ],
     "language": "python",
     "metadata": {},
     "outputs": [
      {
       "output_type": "stream",
       "stream": "stdout",
       "text": [
        "25000\n",
        "25000"
       ]
      }
     ]
    },
    {
     "cell_type": "code",
     "collapsed": false,
     "input": [],
     "language": "python",
     "metadata": {},
     "outputs": []
    },
    {
     "cell_type": "code",
     "collapsed": false,
     "input": [
      "\n",
      "for sen in sentences_test:\n",
      "    label = sen.labels[0]\n",
      "    similar_array = model.most_similar(label)"
     ],
     "language": "python",
     "metadata": {},
     "outputs": []
    }
   ],
   "metadata": {}
  }
 ]
}